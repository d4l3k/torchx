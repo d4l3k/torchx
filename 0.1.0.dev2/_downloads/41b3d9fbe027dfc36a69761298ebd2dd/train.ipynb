{
  "cells": [
    {
      "cell_type": "code",
      "execution_count": null,
      "metadata": {
        "collapsed": false
      },
      "outputs": [],
      "source": [
        "!pip install torchx\n!wget --no-clobber https://github.com/pytorch/torchx/archive/refs/heads/master.tar.gz\n!tar xvf master.tar.gz torchx-master --strip-components=1\n\nNOTEBOOK = True"
      ]
    },
    {
      "cell_type": "markdown",
      "metadata": {},
      "source": [
        "\n# Trainer App Example\n\nThis is an example TorchX app that uses PyTorch Lightning and ClassyVision to\ntrain a model.\n\nThis app only uses standard OSS libraries and has no runtime torchx\ndependencies. For saving and loading data and models it uses fsspec which makes\nthe app agnostic to the environment it's running in.\n"
      ]
    },
    {
      "cell_type": "code",
      "execution_count": null,
      "metadata": {
        "collapsed": false
      },
      "outputs": [],
      "source": [
        "import argparse\nimport sys\nimport tempfile\nfrom typing import List\n\nimport pytorch_lightning as pl\nfrom pytorch_lightning.callbacks import ModelCheckpoint\nfrom pytorch_lightning.loggers import TensorBoardLogger\n\n# ensure data and module are on the path\nsys.path.append(\"examples/apps/lightning_classy_vision\")\nfrom data import TinyImageNetDataModule, download_data\nfrom model import TinyImageNetModel, export_inference_model\n\n\ndef parse_args(argv: List[str]) -> argparse.Namespace:\n    parser = argparse.ArgumentParser(\n        description=\"pytorch lightning + classy vision TorchX example app\"\n    )\n    parser.add_argument(\n        \"--epochs\", type=int, default=3, help=\"number of epochs to train\"\n    )\n    parser.add_argument(\n        \"--batch_size\", type=int, default=32, help=\"batch size to use for training\"\n    )\n    parser.add_argument(\n        \"--data_path\",\n        type=str,\n        help=\"path to load the training data from\",\n        required=True,\n    )\n    parser.add_argument(\"--skip_export\", action=\"store_true\")\n    parser.add_argument(\"--load_path\", type=str, help=\"checkpoint path to load from\")\n    parser.add_argument(\n        \"--output_path\",\n        type=str,\n        help=\"path to place checkpoints and model outputs\",\n        required=True,\n    )\n    parser.add_argument(\n        \"--log_path\",\n        type=str,\n        help=\"path to place the tensorboard logs\",\n        default=\"/tmp\",\n    )\n\n    return parser.parse_args(argv)\n\n\ndef main(argv: List[str]) -> None:\n    with tempfile.TemporaryDirectory() as tmpdir:\n        args = parse_args(argv)\n\n        # Init our model\n        model = TinyImageNetModel()\n\n        # Download and setup the data module\n        data_path = download_data(args.data_path, tmpdir)\n        data = TinyImageNetDataModule(\n            data_dir=data_path,\n            batch_size=args.batch_size,\n        )\n\n        # Setup model checkpointing\n        checkpoint_callback = ModelCheckpoint(\n            monitor=\"train_loss\",\n            dirpath=args.output_path,\n            save_last=True,\n        )\n        if args.load_path:\n            print(f\"loading checkpoint: {args.load_path}...\")\n            model.load_from_checkpoint(checkpoint_path=args.load_path)\n\n        logger = TensorBoardLogger(\n            save_dir=args.log_path, version=1, name=\"lightning_logs\"\n        )\n\n        # Initialize a trainer\n        trainer = pl.Trainer(\n            logger=logger,\n            max_epochs=args.epochs,\n            callbacks=[checkpoint_callback],\n        )\n\n        # Train the model \u26a1\n        trainer.fit(model, data)\n\n        if not args.skip_export:\n            # Export the inference model\n            export_inference_model(model, args.output_path, tmpdir)\n\n\nif __name__ == \"__main__\" and \"NOTEBOOK\" not in globals():\n    main(sys.argv[1:])"
      ]
    }
  ],
  "metadata": {
    "kernelspec": {
      "display_name": "Python 3",
      "language": "python",
      "name": "python3"
    },
    "language_info": {
      "codemirror_mode": {
        "name": "ipython",
        "version": 3
      },
      "file_extension": ".py",
      "mimetype": "text/x-python",
      "name": "python",
      "nbconvert_exporter": "python",
      "pygments_lexer": "ipython3",
      "version": "3.8.10"
    }
  },
  "nbformat": 4,
  "nbformat_minor": 0
}