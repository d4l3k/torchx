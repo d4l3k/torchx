{
  "cells": [
    {
      "cell_type": "code",
      "execution_count": null,
      "metadata": {
        "collapsed": false
      },
      "outputs": [],
      "source": [
        "!pip install torchx\n!wget --no-clobber https://github.com/pytorch/torchx/archive/refs/heads/master.tar.gz\n!tar xvf master.tar.gz torchx-master --strip-components=1\n\nNOTEBOOK = True"
      ]
    },
    {
      "cell_type": "markdown",
      "metadata": {},
      "source": [
        "\n# Datapreproc Component Example\n\nThis is a component definition that runs the example datapreproc app.\n"
      ]
    },
    {
      "cell_type": "code",
      "execution_count": null,
      "metadata": {
        "collapsed": false
      },
      "outputs": [],
      "source": [
        "from typing import Dict, Optional\n\nimport torchx.specs as specs\n\n\ndef data_preproc(\n    image: str,\n    entrypoint: str,\n    output_path: str,\n    input_path: str = \"http://cs231n.stanford.edu/tiny-imagenet-200.zip\",\n    input_md5: str = \"90528d7ca1a48142e341f4ef8d21d0de\",\n    env: Optional[Dict[str, str]] = None,\n    name: str = \"datapreproc\",\n) -> specs.AppDef:\n    \"\"\"Data PreProc app.\n\n    Data PreProc app.\n\n    Args:\n        name: Name of the app.\n        output_path: output_path\n\n    Returns:\n        specs.AppDef: Torchx AppDef\n    \"\"\"\n\n    env = env or {}\n    resource = specs.named_resources[\"T1\"]\n    ddp_role = specs.Role(\n        name=\"datapreproc_role\",\n        image=image,\n        entrypoint=entrypoint,\n        args=[\n            \"--input_path\",\n            input_path,\n            \"--input_md5\",\n            input_md5,\n            \"--output_path\",\n            output_path,\n        ],\n        env=env,\n        resource=resource,\n    ).replicas(1)\n\n    return specs.AppDef(name).of(ddp_role)"
      ]
    }
  ],
  "metadata": {
    "kernelspec": {
      "display_name": "Python 3",
      "language": "python",
      "name": "python3"
    },
    "language_info": {
      "codemirror_mode": {
        "name": "ipython",
        "version": 3
      },
      "file_extension": ".py",
      "mimetype": "text/x-python",
      "name": "python",
      "nbconvert_exporter": "python",
      "pygments_lexer": "ipython3",
      "version": "3.8.10"
    }
  },
  "nbformat": 4,
  "nbformat_minor": 0
}