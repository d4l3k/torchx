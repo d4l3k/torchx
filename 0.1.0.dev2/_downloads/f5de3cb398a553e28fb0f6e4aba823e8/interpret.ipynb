{
  "cells": [
    {
      "cell_type": "code",
      "execution_count": null,
      "metadata": {
        "collapsed": false
      },
      "outputs": [],
      "source": [
        "!pip install torchx\n!wget --no-clobber https://github.com/pytorch/torchx/archive/refs/heads/master.tar.gz\n!tar xvf master.tar.gz torchx-master --strip-components=1\n\nNOTEBOOK = True"
      ]
    },
    {
      "cell_type": "markdown",
      "metadata": {},
      "source": [
        "\n# Model Interpretability App Example\n\nThis is an example TorchX app that uses captum to analyze inputs to for model\ninterpretability purposes. It consumes the trained model from the trainer app\nexample and the preprocessed examples from the datapreproc app example. The\noutput is a series of images with integrated gradient attributions overlayed on\nthem.\n\nSee https://captum.ai/tutorials/CIFAR_TorchVision_Interpret for more info on\nusing captum.\n"
      ]
    },
    {
      "cell_type": "code",
      "execution_count": null,
      "metadata": {
        "collapsed": false
      },
      "outputs": [],
      "source": [
        "import argparse\nimport itertools\nimport os.path\nimport sys\nimport tempfile\nfrom typing import List\n\nimport fsspec\nimport torch\n\n# ensure data and module are on the path\nsys.path.append(\"examples/apps/lightning_classy_vision\")\n\nfrom data import TinyImageNetDataModule, download_data\nfrom model import TinyImageNetModel\n\n\n# FIXME: captum must be imported after torch otherwise it causes python to crash\nif True:\n    import numpy as np\n    from captum.attr import IntegratedGradients\n    from captum.attr import visualization as viz\n\n\ndef parse_args(argv: List[str]) -> argparse.Namespace:\n    parser = argparse.ArgumentParser(description=\"example TorchX captum app\")\n    parser.add_argument(\n        \"--load_path\",\n        type=str,\n        help=\"checkpoint path to load model weights from\",\n        required=True,\n    )\n    parser.add_argument(\n        \"--data_path\",\n        type=str,\n        help=\"path to load the training data from\",\n        required=True,\n    )\n    parser.add_argument(\n        \"--output_path\",\n        type=str,\n        help=\"path to place analysis results\",\n        required=True,\n    )\n\n    return parser.parse_args(argv)\n\n\ndef convert_to_rgb(arr: torch.Tensor) -> np.ndarray:  # pyre-ignore[24]\n    \"\"\"\n    This converts the image from a torch tensor with size (1, 1, 64, 64) to\n    numpy array with size (64, 64, 3).\n    \"\"\"\n    squeezed = arr.squeeze()\n    stacked = torch.stack([squeezed, squeezed, squeezed], dim=2)\n    print(\"img stats: \", stacked.count_nonzero(), stacked.mean())\n    return stacked.numpy()\n\n\ndef main(argv: List[str]) -> None:\n    with tempfile.TemporaryDirectory() as tmpdir:\n        args = parse_args(argv)\n\n        # Init our model\n        model = TinyImageNetModel()\n\n        print(f\"loading checkpoint: {args.load_path}...\")\n        model.load_from_checkpoint(checkpoint_path=args.load_path)\n\n        # Download and setup the data module\n        data_path = download_data(args.data_path, tmpdir)\n        data = TinyImageNetDataModule(\n            data_dir=data_path,\n            batch_size=1,\n        )\n\n        ig = IntegratedGradients(model)\n\n        data.setup(\"test\")\n        dataloader = data.test_dataloader()\n\n        # process first 5 images\n        for i, (input, label) in enumerate(itertools.islice(dataloader, 5)):\n            print(f\"analyzing example {i}\")\n            model.zero_grad()\n            attr_ig, delta = ig.attribute(\n                input,\n                target=label,\n                baselines=input * 0,\n                return_convergence_delta=True,\n            )\n\n            if attr_ig.count_nonzero() == 0:\n                # Our toy model sometimes has no IG results.\n                print(\"skipping due to zero gradients\")\n                continue\n\n            fig, axis = viz.visualize_image_attr(\n                convert_to_rgb(attr_ig),\n                convert_to_rgb(input),\n                method=\"blended_heat_map\",\n                sign=\"all\",\n                show_colorbar=True,\n                title=\"Overlayed Integrated Gradients\",\n            )\n            out_path = os.path.join(args.output_path, f\"ig_{i}.png\")\n            print(f\"saving heatmap to {out_path}\")\n            with fsspec.open(out_path, \"wb\") as f:\n                fig.savefig(f)\n\n\nif __name__ == \"__main__\" and \"NOTEBOOK\" not in globals():\n    main(sys.argv[1:])"
      ]
    }
  ],
  "metadata": {
    "kernelspec": {
      "display_name": "Python 3",
      "language": "python",
      "name": "python3"
    },
    "language_info": {
      "codemirror_mode": {
        "name": "ipython",
        "version": 3
      },
      "file_extension": ".py",
      "mimetype": "text/x-python",
      "name": "python",
      "nbconvert_exporter": "python",
      "pygments_lexer": "ipython3",
      "version": "3.8.10"
    }
  },
  "nbformat": 4,
  "nbformat_minor": 0
}