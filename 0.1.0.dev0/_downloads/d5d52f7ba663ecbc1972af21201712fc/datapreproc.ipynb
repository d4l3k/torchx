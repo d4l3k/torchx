{
  "cells": [
    {
      "cell_type": "code",
      "execution_count": null,
      "metadata": {
        "collapsed": false
      },
      "outputs": [],
      "source": [
        "%matplotlib inline"
      ]
    },
    {
      "cell_type": "markdown",
      "metadata": {},
      "source": [
        "\n# Data Preprocessing App Example\n\nThis is a simple TorchX app that downloads some data via HTTP, normalizes the\nimages via torchvision and then reuploads it via fsspec.\n"
      ]
    },
    {
      "cell_type": "code",
      "execution_count": null,
      "metadata": {
        "collapsed": false
      },
      "outputs": [],
      "source": [
        "import argparse\nimport os\nimport sys\nimport tarfile\nimport tempfile\nfrom typing import List\n\nimport fsspec\nfrom PIL import Image\nfrom torchvision import transforms\nfrom torchvision.datasets.folder import is_image_file\nfrom torchvision.datasets.utils import download_and_extract_archive\nfrom tqdm import tqdm\n\n\ndef parse_args(argv: List[str]) -> argparse.Namespace:\n    parser = argparse.ArgumentParser(\n        description=\"example data preprocessing\",\n    )\n    parser.add_argument(\n        \"--input_path\",\n        type=str,\n        help=\"dataset to download\",\n        default=\"http://cs231n.stanford.edu/tiny-imagenet-200.zip\",\n    )\n    parser.add_argument(\n        \"--input_md5\",\n        type=str,\n        help=\"dataset to download\",\n        default=\"90528d7ca1a48142e341f4ef8d21d0de\",\n    )\n    parser.add_argument(\n        \"--output_path\",\n        type=str,\n        help=\"remote path to save the .tar.gz data to\",\n        required=True,\n    )\n    return parser.parse_args(argv)\n\n\ndef main(argv: List[str]) -> None:\n    args = parse_args(argv)\n    with tempfile.TemporaryDirectory() as tmpdir:\n        print(f\"downloading {args.input_path} to {tmpdir}...\")\n        download_and_extract_archive(args.input_path, tmpdir, md5=args.input_md5)\n\n        img_root = os.path.join(\n            tmpdir,\n            os.path.splitext(os.path.basename(args.input_path))[0],\n        )\n        print(f\"img_root={img_root}\")\n\n        print(\"transforming images...\")\n        transform = transforms.Compose(\n            [\n                transforms.ToTensor(),\n                transforms.Normalize((0.5,), (0.5,)),\n                transforms.ToPILImage(),\n            ]\n        )\n\n        image_files = []\n        for root, _, fnames in os.walk(img_root):\n            for fname in fnames:\n                path = os.path.join(root, fname)\n                if not is_image_file(path):\n                    continue\n                image_files.append(path)\n\n        for path in tqdm(image_files):\n            f = Image.open(path)\n            f = transform(f)\n            f.save(path)\n\n        tar_path = os.path.join(tmpdir, \"out.tar.gz\")\n        print(f\"packing images into {tar_path}...\")\n        with tarfile.open(tar_path, mode=\"w:gz\") as f:\n            f.add(img_root, arcname=\"\")\n\n        print(f\"uploading dataset to {args.output_path}...\")\n        fs, _, rpaths = fsspec.get_fs_token_paths(args.output_path)\n        assert len(rpaths) == 1, \"must have single output path\"\n        fs.put(tar_path, rpaths[0])\n\n\nif __name__ == \"__main__\":\n    main(sys.argv[1:])"
      ]
    }
  ],
  "metadata": {
    "kernelspec": {
      "display_name": "Python 3",
      "language": "python",
      "name": "python3"
    },
    "language_info": {
      "codemirror_mode": {
        "name": "ipython",
        "version": 3
      },
      "file_extension": ".py",
      "mimetype": "text/x-python",
      "name": "python",
      "nbconvert_exporter": "python",
      "pygments_lexer": "ipython3",
      "version": "3.9.5"
    }
  },
  "nbformat": 4,
  "nbformat_minor": 0
}