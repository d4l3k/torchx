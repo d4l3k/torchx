{
  "cells": [
    {
      "cell_type": "code",
      "execution_count": null,
      "metadata": {
        "collapsed": false
      },
      "outputs": [],
      "source": [
        "%matplotlib inline"
      ]
    },
    {
      "cell_type": "markdown",
      "metadata": {},
      "source": [
        "\n# Trainer Component Example\n\nThis is a component definition that runs the example lightning_classy_vision app.\n"
      ]
    },
    {
      "cell_type": "code",
      "execution_count": null,
      "metadata": {
        "collapsed": false
      },
      "outputs": [],
      "source": [
        "import torchx.specs.api as torchx\n\n\ndef classy_vision(\n    image: str,\n    output_path: str,\n    load_path: str = \"\",\n    log_dir: str = \"/logs\",\n) -> torchx.AppDef:\n    \"\"\"Runs the example lightning_classy_vision app.\n\n    Runs the example lightning_classy_vision app.\n\n    Args:\n        image: image to run (e.g. foobar:latest)\n        resource: resource spec\n        output_path: output path for model checkpoints (e.g. file:///foo/bar)\n        load_path: path to load pretrained model from\n        log_dir: path to save tensorboard logs to\n    \"\"\"\n    entrypoint = \"main\"\n\n    trainer_role = (\n        torchx.Role(\n            name=\"trainer\",\n            image=image,\n            resource=torchx.Resource(cpu=1, gpu=1, memMB=1024),\n        )\n        .runs(\n            \"main\",\n            \"--output_path\",\n            output_path,\n            \"--load_path\",\n            load_path,\n            \"--log_dir\",\n            log_dir,\n        )\n        .replicas(1)\n    )\n\n    return torchx.AppDef(\"examples-lightning_classy_vision\").of(trainer_role)"
      ]
    }
  ],
  "metadata": {
    "kernelspec": {
      "display_name": "Python 3",
      "language": "python",
      "name": "python3"
    },
    "language_info": {
      "codemirror_mode": {
        "name": "ipython",
        "version": 3
      },
      "file_extension": ".py",
      "mimetype": "text/x-python",
      "name": "python",
      "nbconvert_exporter": "python",
      "pygments_lexer": "ipython3",
      "version": "3.9.5"
    }
  },
  "nbformat": 4,
  "nbformat_minor": 0
}